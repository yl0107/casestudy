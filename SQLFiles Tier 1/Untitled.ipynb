{
 "cells": [
  {
   "cell_type": "code",
   "execution_count": 25,
   "id": "ab5b32d3",
   "metadata": {
    "scrolled": false
   },
   "outputs": [
    {
     "name": "stdout",
     "output_type": "stream",
     "text": [
      "2.6.0\n",
      "2. Query all tasks\n",
      "('Badminton Court', '09', '2012', 507)\n",
      "('Pool Table', '09', '2012', 443)\n",
      "('Tennis Court 1', '09', '2012', 417)\n",
      "('Tennis Court 2', '09', '2012', 414)\n",
      "('Badminton Court', '08', '2012', 414)\n",
      "('Snooker Table', '09', '2012', 404)\n",
      "('Massage Room 1', '09', '2012', 402)\n",
      "('Table Tennis', '09', '2012', 400)\n",
      "('Tennis Court 2', '08', '2012', 345)\n",
      "('Tennis Court 1', '08', '2012', 339)\n",
      "('Massage Room 1', '08', '2012', 316)\n",
      "('Snooker Table', '08', '2012', 316)\n",
      "('Pool Table', '08', '2012', 303)\n",
      "('Table Tennis', '08', '2012', 296)\n",
      "('Tennis Court 1', '07', '2012', 201)\n",
      "('Squash Court', '08', '2012', 184)\n",
      "('Squash Court', '09', '2012', 184)\n",
      "('Massage Room 1', '07', '2012', 166)\n",
      "('Badminton Court', '07', '2012', 165)\n",
      "('Snooker Table', '07', '2012', 140)\n",
      "('Tennis Court 2', '07', '2012', 123)\n",
      "('Pool Table', '07', '2012', 110)\n",
      "('Table Tennis', '07', '2012', 98)\n",
      "('Squash Court', '07', '2012', 50)\n",
      "('Massage Room 2', '09', '2012', 28)\n",
      "('Massage Room 2', '08', '2012', 18)\n",
      "('Massage Room 2', '07', '2012', 8)\n"
     ]
    }
   ],
   "source": [
    "import sqlite3\n",
    "from sqlite3 import Error\n",
    "\n",
    " \n",
    "def create_connection(db_file):\n",
    "    \"\"\" create a database connection to the SQLite database\n",
    "        specified by the db_file\n",
    "    :param db_file: database file\n",
    "    :return: Connection object or None\n",
    "    \"\"\"\n",
    "    conn = None\n",
    "    try:\n",
    "        conn = sqlite3.connect(db_file)\n",
    "        print(sqlite3.version)\n",
    "    except Error as e:\n",
    "        print(e)\n",
    " \n",
    "    return conn\n",
    "\n",
    " \n",
    "def select_all_tasks(conn):\n",
    "    \"\"\"\n",
    "    Query all rows in the tasks table\n",
    "    :param conn: the Connection object\n",
    "    :return:\n",
    "    \"\"\"\n",
    "    cur = conn.cursor()\n",
    "    \n",
    "    query1 = \"\"\"\n",
    "SELECT f.name AS facility_name,\n",
    "       strftime('%m', b.starttime) AS month,\n",
    "       strftime('%Y', b.starttime) AS year,\n",
    "       SUM(b.slots) AS usage_by_members\n",
    "FROM Bookings AS b\n",
    "JOIN Facilities AS f ON b.facid = f.facid\n",
    "WHERE b.memid != 0\n",
    "GROUP BY f.facid, year, month\n",
    "ORDER BY usage_by_members DESC\n",
    ";\n",
    "        \"\"\"\n",
    "    cur.execute(query1)\n",
    " \n",
    "    rows = cur.fetchall()\n",
    " \n",
    "    for row in rows:\n",
    "        print(row)\n",
    "\n",
    "\n",
    "def main():\n",
    "    database = \"sqlite_db_pythonsqlite.db\"\n",
    " \n",
    "    # create a database connection\n",
    "    conn = create_connection(database)\n",
    "    with conn: \n",
    "        print(\"2. Query all tasks\")\n",
    "        select_all_tasks(conn)\n",
    " \n",
    " \n",
    "if __name__ == '__main__':\n",
    "    main()\n",
    "\n"
   ]
  },
  {
   "cell_type": "code",
   "execution_count": null,
   "id": "a9c6dc53",
   "metadata": {},
   "outputs": [],
   "source": []
  },
  {
   "cell_type": "code",
   "execution_count": null,
   "id": "19147712",
   "metadata": {},
   "outputs": [],
   "source": []
  }
 ],
 "metadata": {
  "kernelspec": {
   "display_name": "Python 3 (ipykernel)",
   "language": "python",
   "name": "python3"
  },
  "language_info": {
   "codemirror_mode": {
    "name": "ipython",
    "version": 3
   },
   "file_extension": ".py",
   "mimetype": "text/x-python",
   "name": "python",
   "nbconvert_exporter": "python",
   "pygments_lexer": "ipython3",
   "version": "3.9.13"
  }
 },
 "nbformat": 4,
 "nbformat_minor": 5
}
